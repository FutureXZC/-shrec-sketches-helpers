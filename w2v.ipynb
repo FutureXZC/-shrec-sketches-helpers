{
    "cells": [
        {
            "cell_type": "code",
            "execution_count": 2,
            "source": [
                "import os\r\n",
                "import gensim.downloader as api\r\n",
                "import numpy as np\r\n",
                "import pandas as pd\r\n",
                "\r\n",
                "# 手动设置名称以匹配word2vec条目\r\n",
                "NAMES = {'pipe_for_smoking': ['pipe', 'smoking'],\r\n",
                "         'parking_meter': ['metered_parking'],\r\n",
                "         'door_handle': ['doorhandle'],\r\n",
                "         'bear_animal': ['bear'],\r\n",
                "         'race_car': ['racecar'],\r\n",
                "         'axe': ['ax'],\r\n",
                "         'tablelamp': ['table', 'lamp'],\r\n",
                "         'beer_mug': ['beer_mugs'],\r\n",
                "         'flower_with_stem': ['flower', 'stem'],\r\n",
                "         'wrist_watch': ['wristwatch']}"
            ],
            "outputs": [],
            "metadata": {}
        },
        {
            "cell_type": "code",
            "execution_count": 4,
            "source": [
                "def get_vector_names(classnames):\r\n",
                "    print('Loading word2vec...')\r\n",
                "    # Google News数据集，覆盖了大约300万的词汇和短语\r\n",
                "    model = api.load(\"word2vec-google-news-300\")\r\n",
                "\r\n",
                "    wv = {}\r\n",
                "    for cls in classnames:\r\n",
                "        print(cls)\r\n",
                "        tmp = cls.replace('-', '_')\r\n",
                "        try:\r\n",
                "            vec = model.get_vector(tmp)\r\n",
                "        except:\r\n",
                "            # 提取类名的词向量，用于辅助语义分析\r\n",
                "            if tmp in NAMES:\r\n",
                "                vec = np.mean([model.get_vector(w) for w in NAMES[tmp]], axis=0)\r\n",
                "            else:\r\n",
                "                vec = np.mean([model.get_vector(w) for w in tmp.split('_')], axis=0)\r\n",
                "\r\n",
                "        wv[cls] = vec\r\n",
                "    return wv"
            ],
            "outputs": [],
            "metadata": {}
        },
        {
            "cell_type": "code",
            "execution_count": 5,
            "source": [
                "save_dir = os.path.join('labels', 'SHREC14')\r\n",
                "df = pd.read_hdf(os.path.join(save_dir, 'sk_orig.hdf5'))\r\n",
                "print('save_dir: ', save_dir)\r\n",
                "print('df: \\n', df)\r\n",
                "\r\n",
                "classnames = df['cat'].unique()\r\n",
                "\r\n",
                "# wv = get_vector_names(classnames)\r\n",
                "# print('wv: \\n', wv)\r\n",
                "\r\n",
                "# np.savez(os.path.join(save_dir, 'w2v.npz'), wv=wv)\r\n",
                "# save_dir = os.path.join('labels', 'PART-SHREC14')\r\n",
                "# df = pd.read_hdf(os.path.join(save_dir, 'sk_orig.hdf5'))\r\n",
                "# print('save_dir: ', save_dir)\r\n",
                "# print('df: \\n', df)\r\n",
                "\r\n",
                "# classnames = df['cat'].unique()\r\n",
                "\r\n",
                "# part_wv = {}\r\n",
                "# for cls in classnames:\r\n",
                "#     part_wv[cls] = wv[cls]\r\n",
                "# print('part_wv: \\n', part_wv)\r\n",
                "\r\n",
                "# np.savez(os.path.join(save_dir, 'w2v.npz'), wv=part_wv)"
            ],
            "outputs": [
                {
                    "output_type": "stream",
                    "name": "stdout",
                    "text": [
                        "save_dir:  labels\\SHREC14\n",
                        "df: \n",
                        "                                                             cat  split     id\n",
                        "SHREC14\\SHREC14LSSTB_SKETCHES\\SHREC14LSSTB_SKET...     airplane   test     14\n",
                        "SHREC14\\SHREC14LSSTB_SKETCHES\\SHREC14LSSTB_SKET...     airplane   test     19\n",
                        "SHREC14\\SHREC14LSSTB_SKETCHES\\SHREC14LSSTB_SKET...     airplane   test     23\n",
                        "SHREC14\\SHREC14LSSTB_SKETCHES\\SHREC14LSSTB_SKET...     airplane   test     24\n",
                        "SHREC14\\SHREC14LSSTB_SKETCHES\\SHREC14LSSTB_SKET...     airplane   test     25\n",
                        "...                                                         ...    ...    ...\n",
                        "SHREC14\\SHREC14LSSTB_SKETCHES\\SHREC14LSSTB_SKET...  wrist_watch  train  19911\n",
                        "SHREC14\\SHREC14LSSTB_SKETCHES\\SHREC14LSSTB_SKET...  wrist_watch  train  19913\n",
                        "SHREC14\\SHREC14LSSTB_SKETCHES\\SHREC14LSSTB_SKET...  wrist_watch  train  19916\n",
                        "SHREC14\\SHREC14LSSTB_SKETCHES\\SHREC14LSSTB_SKET...  wrist_watch  train  19918\n",
                        "SHREC14\\SHREC14LSSTB_SKETCHES\\SHREC14LSSTB_SKET...  wrist_watch  train  19919\n",
                        "\n",
                        "[13680 rows x 3 columns]\n",
                        "Loading word2vec...\n",
                        "[===-----------------------------------------------] 6.1% 101.9/1662.8MB downloaded"
                    ]
                }
            ],
            "metadata": {}
        }
    ],
    "metadata": {
        "orig_nbformat": 4,
        "language_info": {
            "name": "python",
            "version": "3.8.3",
            "mimetype": "text/x-python",
            "codemirror_mode": {
                "name": "ipython",
                "version": 3
            },
            "pygments_lexer": "ipython3",
            "nbconvert_exporter": "python",
            "file_extension": ".py"
        },
        "kernelspec": {
            "name": "python3",
            "display_name": "Python 3.8.3 64-bit ('base': conda)"
        },
        "interpreter": {
            "hash": "b3ba2566441a7c06988d0923437866b63cedc61552a5af99d1f4fb67d367b25f"
        }
    },
    "nbformat": 4,
    "nbformat_minor": 2
}