{
    "cells": [
        {
            "cell_type": "code",
            "execution_count": 1,
            "source": [
                "import os\n",
                "import pandas as pd\n",
                "\n",
                "data_dir = os.path.join('.', 'data', 'blender-off-multiview-tool')\n",
                "DESIRED_SIZE = 224"
            ],
            "outputs": [],
            "metadata": {}
        },
        {
            "cell_type": "code",
            "execution_count": 2,
            "source": [
                "df = pd.read_hdf(os.path.join('labels', 'REORGANIZE-PART-SHREC14', 'sk_orig.hdf5'))\n",
                "paths = df.index.values\n",
                "sk_paths = []\n",
                "for p in paths:\n",
                "    sk_paths.append(os.path.join(data_dir, p))\n",
                "print('total number of sketches: ', len(sk_paths))\n",
                "\n",
                "cad_im_path = os.path.join(data_dir, 'dataset_3d_model_view_224x224')\n",
                "cad_class = os.listdir(cad_im_path)\n",
                "cad_paths = []\n",
                "for c in cad_class:\n",
                "    class_path = os.path.join(cad_im_path, c)\n",
                "    class_item = os.listdir(class_path)\n",
                "    for item in class_item:\n",
                "        item_path = os.path.join(class_path, item)\n",
                "        views = os.listdir(item_path)\n",
                "        for v in views:\n",
                "            cad_paths.append(os.path.join(item_path, v))\n",
                "print('total number of 3D models\\' views: ', len(cad_paths))"
            ],
            "outputs": [
                {
                    "output_type": "stream",
                    "name": "stdout",
                    "text": [
                        "total number of sketches:  3840\n",
                        "total number of 3D models' views:  86856\n"
                    ]
                }
            ],
            "metadata": {}
        },
        {
            "cell_type": "code",
            "execution_count": 3,
            "source": [
                "import numpy as np\n",
                "from PIL import Image, ImageOps\n",
                "\n",
                "def transform_im(im):\n",
                "    '''\n",
                "    Scale the picture to prevent distortion\n",
                "    '''\n",
                "    if im.mode == 'RGBA':\n",
                "        im = im.convert('RGB')\n",
                "    # [width, height]\n",
                "    old_size = np.asarray(im.size)\n",
                "    ratio = float(DESIRED_SIZE) / max(old_size)\n",
                "    new_size = map(int, old_size * ratio)\n",
                "    # Image.NEAREST ：最近邻居\n",
                "    # Image.BILINEAR：双线性差值\n",
                "    # Image.BICUBIC ：双三次插值法\n",
                "    # Image.ANTIALIAS：面积插值法\n",
                "    im = im.resize(new_size, Image.ANTIALIAS)\n",
                "    return im\n",
                "\n",
                "\n",
                "def process_im(path, mode):\n",
                "    im = Image.open(path)\n",
                "    im = transform_im(im)\n",
                "    # saving\n",
                "    im_dir = os.path.dirname(path)\n",
                "    fname = os.path.basename(path)\n",
                "    split = im_dir.split(os.path.sep)[-1]\n",
                "    clsname = im_dir.split(os.path.sep)[-2]\n",
                "    \n",
                "    save_dir = ''\n",
                "    if mode == 'sketch':\n",
                "        save_dir = os.path.join(*im_dir.split(os.path.sep)[:-4])\n",
                "        save_dir = os.path.join(save_dir, 'SHREC14LSSTB_SKETCHES_RESIZED', clsname, split)\n",
                "    else:\n",
                "        save_dir = os.path.join(data_dir, 'SHREC14', 'SHREC14LSSTB_TARGET_MODELS_RESIZED', clsname, split)\n",
                "    if not os.path.exists(save_dir):\n",
                "        os.makedirs(save_dir)\n",
                "\n",
                "    # The quality of the saved image, with values ranging from 1 (worst) to 95 (best)\n",
                "    im.save(os.path.join(save_dir, fname), quality=95)"
            ],
            "outputs": [],
            "metadata": {}
        },
        {
            "cell_type": "code",
            "execution_count": 4,
            "source": [
                "print('----- start sketches resize -----')\n",
                "for i in range(len(sk_paths)):\n",
                "    process_im(sk_paths[i], 'sketch')\n",
                "    if i and i % 500 == 0:\n",
                "        print('done:', i)\n",
                "print('total:', len(sk_paths))\n",
                "print('----- all be done -----')\n",
                "\n",
                "print('----- start 3D models\\' views resize -----')\n",
                "for i in range(len(cad_paths)):\n",
                "    process_im(cad_paths[i], '3d')\n",
                "    if i and i % 5000 == 0:\n",
                "        print('done:', i)\n",
                "print('total:', len(cad_paths))\n",
                "print('----- all be done -----')"
            ],
            "outputs": [
                {
                    "output_type": "stream",
                    "name": "stdout",
                    "text": [
                        "----- start sketches resize -----\n",
                        "done: 500\n",
                        "done: 1000\n",
                        "done: 1500\n",
                        "done: 2000\n",
                        "done: 2500\n",
                        "done: 3000\n",
                        "done: 3500\n",
                        "total: 3840\n",
                        "----- all be done -----\n",
                        "----- start 3D models' views resize -----\n",
                        "done: 5000\n",
                        "done: 10000\n",
                        "done: 15000\n",
                        "done: 20000\n",
                        "done: 25000\n",
                        "done: 30000\n",
                        "done: 35000\n",
                        "done: 40000\n",
                        "done: 45000\n",
                        "done: 50000\n",
                        "done: 55000\n",
                        "done: 60000\n",
                        "done: 65000\n",
                        "done: 70000\n",
                        "done: 75000\n",
                        "done: 80000\n",
                        "done: 85000\n",
                        "total: 86856\n",
                        "----- all be done -----\n"
                    ]
                }
            ],
            "metadata": {}
        }
    ],
    "metadata": {
        "orig_nbformat": 4,
        "language_info": {
            "name": "python",
            "version": "3.7.11",
            "mimetype": "text/x-python",
            "codemirror_mode": {
                "name": "ipython",
                "version": 3
            },
            "pygments_lexer": "ipython3",
            "nbconvert_exporter": "python",
            "file_extension": ".py"
        },
        "kernelspec": {
            "name": "python3",
            "display_name": "Python 3.7.11 64-bit ('sskd': conda)"
        },
        "interpreter": {
            "hash": "e11c813ba57576fbea393d263cd181a36099d829243ce61592468c49ab6f46fc"
        }
    },
    "nbformat": 4,
    "nbformat_minor": 2
}