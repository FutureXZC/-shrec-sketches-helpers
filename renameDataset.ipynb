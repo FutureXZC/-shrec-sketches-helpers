{
    "cells": [
        {
            "cell_type": "code",
            "execution_count": null,
            "source": [
                "import os\n",
                "\n",
                "# Number of complete 3D model datasets\n",
                "f = os.listdir('./data/SHREC14/SHREC14LSSTB_TARGET_MODELS')\n",
                "print('total 3d model files:', len(f))"
            ],
            "outputs": [],
            "metadata": {}
        },
        {
            "cell_type": "code",
            "execution_count": null,
            "source": [
                "import pandas as pd\n",
                "\n",
                "new_df_cad = pd.read_hdf('./labels/PART-SHREC14/cad_orig.hdf5')\n",
                "print('new_df_cad:')\n",
                "print(new_df_cad)"
            ],
            "outputs": [],
            "metadata": {}
        },
        {
            "cell_type": "code",
            "execution_count": null,
            "source": [
                "import shutil\n",
                "\n",
                "data_dir = './data'\n",
                "copy_dir = 'SHREC14/SHREC14LSSTB_TARGET_MODELS_REORGANIZE/'\n",
                "\n",
                "if not os.path.exists(data_dir):\n",
                "    os.makedirs(data_dir)\n",
                "\n",
                "reorganize_path = []\n",
                "cat = []\n",
                "ids = []\n",
                "split = []\n",
                "\n",
                "for index, row in new_df_cad.iterrows():\n",
                "    # Copy files by classes\n",
                "    old_path = os.path.join(data_dir, index)\n",
                "    new_path = os.path.join(data_dir, copy_dir, row['cat'], row['cat'] + '_' + row['id'] + '.off')\n",
                "    # print(old_path, new_path)\n",
                "    shutil.copy(old_path, new_path)\n",
                "    # Re-record the reorganized model files with labels, ids, and partitions into the new DataFrame\n",
                "    reorganize_path.append(os.path.join(copy_dir, row['cat'], row['cat'] + '_' + row['id'] + '.off'))\n",
                "    cat.append(row['cat'])\n",
                "    ids.append(row['id'])\n",
                "    split.append(row['split'])\n",
                "print('reorganize 3d model files done')\n",
                "\n",
                "# Save the data mapping information of this reorganized 3D model dataset\n",
                "reorganize_df = pd.DataFrame(data={'cat': cat, 'id': ids, 'split': split}, index=reorganize_path)\n",
                "print('reorganize_df: ')\n",
                "print(reorganize_df)\n",
                "save_dir = './labels/REORGANIZE-PART-SHREC14'\n",
                "if not os.path.exists(save_dir):\n",
                "    os.makedirs(save_dir)\n",
                "reorganize_df.to_hdf(os.path.join(save_dir, 'reorganize_cad_orig.hdf5'), 'cad')\n",
                "print('save_dir: ', os.path.join(save_dir, 'cad_orig.hdf5'))\n",
                "\n",
                "# Copy the data mapping file of the sketches\n",
                "old_path = './labels/PART-SHREC14/sk_orig.hdf5'\n",
                "new_path = './labels/REORGANIZE-PART-SHREC14/sk_orig.hdf5'\n",
                "shutil.copy(old_path, new_path)\n",
                "print('copy .hdf5 file for sketches from', old_path, 'to', new_path)"
            ],
            "outputs": [],
            "metadata": {}
        }
    ],
    "metadata": {
        "orig_nbformat": 4,
        "language_info": {
            "name": "python",
            "version": "3.7.11",
            "mimetype": "text/x-python",
            "codemirror_mode": {
                "name": "ipython",
                "version": 3
            },
            "pygments_lexer": "ipython3",
            "nbconvert_exporter": "python",
            "file_extension": ".py"
        },
        "kernelspec": {
            "name": "python3",
            "display_name": "Python 3.7.11 64-bit ('sskd': conda)"
        },
        "interpreter": {
            "hash": "e11c813ba57576fbea393d263cd181a36099d829243ce61592468c49ab6f46fc"
        }
    },
    "nbformat": 4,
    "nbformat_minor": 2
}