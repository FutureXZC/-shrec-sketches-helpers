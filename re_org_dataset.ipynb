{
    "cells": [
        {
            "cell_type": "code",
            "execution_count": 1,
            "source": [
                "import os\n",
                "\n",
                "# Number of complete 3D model datasets\n",
                "f = os.listdir('./data/SHREC14/SHREC14LSSTB_TARGET_MODELS')\n",
                "print('total 3d model files:', len(f))"
            ],
            "outputs": [
                {
                    "output_type": "stream",
                    "name": "stdout",
                    "text": [
                        "total 3d model files: 8987\n"
                    ]
                }
            ],
            "metadata": {}
        },
        {
            "cell_type": "code",
            "execution_count": 4,
            "source": [
                "import pandas as pd\n",
                "\n",
                "new_df_cad = pd.read_hdf('./labels/PART-SHREC14/cad_orig.hdf5')\n",
                "print('new_df_cad:')\n",
                "print(new_df_cad)\n",
                "total_used = new_df_cad.shape[0]\n",
                "print('The amount of data actually used: ', total_used)"
            ],
            "outputs": [
                {
                    "output_type": "stream",
                    "name": "stdout",
                    "text": [
                        "new_df_cad:\n",
                        "                                                       cat       id  split\n",
                        "SHREC14/SHREC14LSSTB_TARGET_MODELS/M007043.off        ship  M007043  train\n",
                        "SHREC14/SHREC14LSSTB_TARGET_MODELS/M002589.off       chair  M002589  train\n",
                        "SHREC14/SHREC14LSSTB_TARGET_MODELS/M008295.off       train  M008295  train\n",
                        "SHREC14/SHREC14LSSTB_TARGET_MODELS/M001201.off         ant  M001201   test\n",
                        "SHREC14/SHREC14LSSTB_TARGET_MODELS/M007812.off    airplane  M007812  train\n",
                        "...                                                    ...      ...    ...\n",
                        "SHREC14/SHREC14LSSTB_TARGET_MODELS/M003784.off       knife  M003784   test\n",
                        "SHREC14/SHREC14LSSTB_TARGET_MODELS/M008790.off  helicopter  M008790  train\n",
                        "SHREC14/SHREC14LSSTB_TARGET_MODELS/M001809.off  helicopter  M001809   test\n",
                        "SHREC14/SHREC14LSSTB_TARGET_MODELS/M006829.off   car_sedan  M006829  train\n",
                        "SHREC14/SHREC14LSSTB_TARGET_MODELS/M000550.off    race_car  M000550  train\n",
                        "\n",
                        "[7238 rows x 3 columns]\n",
                        "The amount of data actually used:  7238\n"
                    ]
                }
            ],
            "metadata": {}
        },
        {
            "cell_type": "code",
            "execution_count": 8,
            "source": [
                "import shutil\n",
                "\n",
                "data_dir = './data'\n",
                "copy_dir = 'SHREC14/SHREC14LSSTB_TARGET_MODELS_REORGANIZE/'\n",
                "save_dir = './labels/REORGANIZE-PART-SHREC14'\n",
                "mapping_dir = os.path.join(save_dir, 'dataset.txt')\n",
                "\n",
                "if not os.path.exists(data_dir):\n",
                "    os.makedirs(data_dir)\n",
                "\n",
                "reorganize_path = []\n",
                "cat = []\n",
                "ids = []\n",
                "split = []\n",
                "count = 1\n",
                "\n",
                "# Save the data mapping to .txt file\n",
                "file_write_obj = open(mapping_dir, 'w')\n",
                "print('dataset mapping save: ', mapping_dir)\n",
                "\n",
                "for index, row in new_df_cad.iterrows():\n",
                "    # Copy files by classes\n",
                "    old_path = os.path.join(data_dir, index)\n",
                "    new_path = os.path.join(data_dir, copy_dir, row['cat'], row['cat'] + '_' + row['id'] + '.off')\n",
                "    # print(old_path, new_path)\n",
                "    shutil.copy(old_path, new_path)\n",
                "    # Re-record the reorganized model files with labels, ids, and partitions into the new DataFrame\n",
                "    item_path = os.path.join(copy_dir, row['cat'], row['cat'] + '_' + row['id'] + '.off')\n",
                "    reorganize_path.append(item_path)\n",
                "    cat.append(row['cat'])\n",
                "    ids.append(row['id'])\n",
                "    split.append(row['split'])\n",
                "    file_write_obj.writelines(item_path)\n",
                "    if count < total_used:\n",
                "        file_write_obj.writelines('\\n')\n",
                "        count += 1\n",
                "file_write_obj.close()\n",
                "\n",
                "# Save the data mapping information of this reorganized 3D model dataset\n",
                "reorganize_df = pd.DataFrame(data={'cat': cat, 'id': ids, 'split': split}, index=reorganize_path)\n",
                "print('reorganize_df: ')\n",
                "print(reorganize_df)\n",
                "print('reorganize 3d model files done')"
            ],
            "outputs": [
                {
                    "output_type": "stream",
                    "name": "stdout",
                    "text": [
                        "dataset mapping save:  ./labels/REORGANIZE-PART-SHREC14/dataset.txt\n",
                        "reorganize_df: \n",
                        "                                                           cat       id  split\n",
                        "SHREC14/SHREC14LSSTB_TARGET_MODELS_REORGANIZE/s...        ship  M007043  train\n",
                        "SHREC14/SHREC14LSSTB_TARGET_MODELS_REORGANIZE/c...       chair  M002589  train\n",
                        "SHREC14/SHREC14LSSTB_TARGET_MODELS_REORGANIZE/t...       train  M008295  train\n",
                        "SHREC14/SHREC14LSSTB_TARGET_MODELS_REORGANIZE/a...         ant  M001201   test\n",
                        "SHREC14/SHREC14LSSTB_TARGET_MODELS_REORGANIZE/a...    airplane  M007812  train\n",
                        "...                                                        ...      ...    ...\n",
                        "SHREC14/SHREC14LSSTB_TARGET_MODELS_REORGANIZE/k...       knife  M003784   test\n",
                        "SHREC14/SHREC14LSSTB_TARGET_MODELS_REORGANIZE/h...  helicopter  M008790  train\n",
                        "SHREC14/SHREC14LSSTB_TARGET_MODELS_REORGANIZE/h...  helicopter  M001809   test\n",
                        "SHREC14/SHREC14LSSTB_TARGET_MODELS_REORGANIZE/c...   car_sedan  M006829  train\n",
                        "SHREC14/SHREC14LSSTB_TARGET_MODELS_REORGANIZE/r...    race_car  M000550  train\n",
                        "\n",
                        "[7238 rows x 3 columns]\n",
                        "reorganize 3d model files done\n"
                    ]
                }
            ],
            "metadata": {}
        },
        {
            "cell_type": "code",
            "execution_count": 9,
            "source": [
                "if not os.path.exists(save_dir):\n",
                "    os.makedirs(save_dir)\n",
                "reorganize_df.to_hdf(os.path.join(save_dir, 'reorganize_cad_orig.hdf5'), 'cad')\n",
                "print('save_dir: ', os.path.join(save_dir, 'cad_orig.hdf5'))\n",
                "\n",
                "# Copy the data mapping file of the sketches\n",
                "old_path = './labels/PART-SHREC14/sk_orig.hdf5'\n",
                "new_path = './labels/REORGANIZE-PART-SHREC14/sk_orig.hdf5'\n",
                "shutil.copy(old_path, new_path)\n",
                "print('copy .hdf5 file for sketches from', old_path, 'to', new_path)"
            ],
            "outputs": [
                {
                    "output_type": "stream",
                    "name": "stdout",
                    "text": [
                        "save_dir:  ./labels/REORGANIZE-PART-SHREC14/cad_orig.hdf5\n",
                        "copy .hdf5 file for sketches from ./labels/PART-SHREC14/sk_orig.hdf5 to ./labels/REORGANIZE-PART-SHREC14/sk_orig.hdf5\n"
                    ]
                }
            ],
            "metadata": {}
        }
    ],
    "metadata": {
        "orig_nbformat": 4,
        "language_info": {
            "name": "python",
            "version": "3.7.11",
            "mimetype": "text/x-python",
            "codemirror_mode": {
                "name": "ipython",
                "version": 3
            },
            "pygments_lexer": "ipython3",
            "nbconvert_exporter": "python",
            "file_extension": ".py"
        },
        "kernelspec": {
            "name": "python3",
            "display_name": "Python 3.7.11 64-bit ('sskd': conda)"
        },
        "interpreter": {
            "hash": "e11c813ba57576fbea393d263cd181a36099d829243ce61592468c49ab6f46fc"
        }
    },
    "nbformat": 4,
    "nbformat_minor": 2
}